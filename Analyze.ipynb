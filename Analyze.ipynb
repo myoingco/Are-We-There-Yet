{
 "cells": [
  {
   "cell_type": "code",
   "execution_count": 5,
   "metadata": {},
   "outputs": [],
   "source": [
    "import json\n",
    "import pandas as pd\n",
    "\n"
   ]
  },
  {
   "cell_type": "code",
   "execution_count": 6,
   "metadata": {},
   "outputs": [],
   "source": [
    "# Load the JSON data from the file\n",
    "with open('flight_data.json', 'r') as json_file:\n",
    "    flight_data = json.load(json_file)\n",
    "\n",
    "if 'states' in flight_data:\n",
    "    df = pd.DataFrame(flight_data['states'], columns=['icao24', 'callsign', 'origin_country', 'time_position', \n",
    "                                                       'last_contact', 'longitude', 'latitude', 'baro_altitude', \n",
    "                                                       'on_ground', 'velocity', 'true_track', 'vertical_rate', \n",
    "                                                       'sensors', 'geo_altitude', 'squawk', 'spi', 'position_source'])\n",
    "else:\n",
    "    print(\"No flight states found in the JSON file.\")"
   ]
  },
  {
   "cell_type": "code",
   "execution_count": 7,
   "metadata": {},
   "outputs": [
    {
     "name": "stdout",
     "output_type": "stream",
     "text": [
      "       icao24  callsign origin_country  time_position  last_contact  \\\n",
      "0      4b1816  EDW752X     Switzerland   1.728145e+09    1728145455   \n",
      "1      aa8c39  UAL1890   United States   1.728145e+09    1728145455   \n",
      "2      ad4f1c  ERU957    United States   1.728145e+09    1728145455   \n",
      "3      aa56da  UAL1107   United States   1.728145e+09    1728145456   \n",
      "4      a33b55  N307WP    United States   1.728145e+09    1728145455   \n",
      "...       ...       ...            ...            ...           ...   \n",
      "10779  458664  CAT313          Denmark   1.728145e+09    1728145455   \n",
      "10780  a9607d  JBU1196   United States   1.728145e+09    1728145455   \n",
      "10781  a09a01  N138ME    United States   1.728145e+09    1728145456   \n",
      "10782  c00734  WJA1513          Canada   1.728145e+09    1728145455   \n",
      "10783  a60bbd  WUP489    United States   1.728145e+09    1728145455   \n",
      "\n",
      "       longitude  latitude  baro_altitude  on_ground  velocity  true_track  \\\n",
      "0         8.5634   47.4571         426.72      False     44.54      276.63   \n",
      "1      -111.1215   37.8265       11277.60      False    266.05       78.62   \n",
      "2       -81.4529   29.3167         739.14      False     45.28       21.32   \n",
      "3      -106.6643   35.4108       11277.60      False    254.26      123.53   \n",
      "4       -96.9043   34.3252        7307.58      False    128.95      192.21   \n",
      "...          ...       ...            ...        ...       ...         ...   \n",
      "10779     8.4163   52.5012       11887.20      False    241.95      197.32   \n",
      "10780   -80.3416   26.8740        5280.66      False    229.71      339.41   \n",
      "10781  -122.2989   37.9853         617.22      False     60.88      239.53   \n",
      "10782  -115.2695   50.0279        7932.42      False    184.68       28.99   \n",
      "10783   -82.7952   38.9301       10668.00      False    231.86      168.09   \n",
      "\n",
      "       vertical_rate sensors  geo_altitude squawk    spi  position_source  \n",
      "0               0.00    None           NaN   1000  False                0  \n",
      "1               0.00    None      11871.96   7276  False                0  \n",
      "2              -0.33    None        769.62   None  False                0  \n",
      "3               0.00    None      11902.44   None  False                0  \n",
      "4               0.00    None       7711.44   None  False                0  \n",
      "...              ...     ...           ...    ...    ...              ...  \n",
      "10779           0.33    None      12077.70   0757  False                0  \n",
      "10780           6.83    None       5600.70   7414  False                0  \n",
      "10781          -0.33    None        632.46   None  False                0  \n",
      "10782          -8.78    None       8161.02   None  False                0  \n",
      "10783           0.00    None      11102.34   7750  False                0  \n",
      "\n",
      "[10784 rows x 17 columns]\n"
     ]
    }
   ],
   "source": [
    "print(df)"
   ]
  },
  {
   "cell_type": "code",
   "execution_count": 8,
   "metadata": {},
   "outputs": [],
   "source": [
    "df = pd.DataFrame(flight_data['states'])"
   ]
  },
  {
   "cell_type": "code",
   "execution_count": null,
   "metadata": {},
   "outputs": [],
   "source": []
  }
 ],
 "metadata": {
  "kernelspec": {
   "display_name": "base",
   "language": "python",
   "name": "python3"
  },
  "language_info": {
   "codemirror_mode": {
    "name": "ipython",
    "version": 3
   },
   "file_extension": ".py",
   "mimetype": "text/x-python",
   "name": "python",
   "nbconvert_exporter": "python",
   "pygments_lexer": "ipython3",
   "version": "3.9.18"
  }
 },
 "nbformat": 4,
 "nbformat_minor": 2
}
