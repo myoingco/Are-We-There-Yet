{
 "cells": [
  {
   "cell_type": "code",
   "execution_count": 5,
   "metadata": {},
   "outputs": [],
   "source": [
    "import json\n",
    "import pandas as pd\n",
    "\n"
   ]
  },
  {
   "cell_type": "code",
   "execution_count": 18,
   "metadata": {},
   "outputs": [],
   "source": [
    "# Load the JSON data from the file\n",
    "with open('flight_data.json', 'r') as json_file:\n",
    "    flight_data = json.load(json_file)\n",
    "\n",
    "if 'states' in flight_data:\n",
    "    df = pd.DataFrame(flight_data['states'], columns=['icao24', 'callsign', 'origin_country', 'time_position', \n",
    "                                                       'last_contact', 'longitude', 'latitude', 'baro_altitude', \n",
    "                                                       'on_ground', 'velocity', 'true_track', 'vertical_rate', \n",
    "                                                       'sensors', 'geo_altitude', 'squawk', 'spi', 'position_source'])\n",
    "else:\n",
    "    print(\"No flight states found in the JSON file.\")"
   ]
  },
  {
   "cell_type": "code",
   "execution_count": 19,
   "metadata": {},
   "outputs": [
    {
     "name": "stdout",
     "output_type": "stream",
     "text": [
      "   icao24  callsign origin_country  time_position  last_contact  longitude  \\\n",
      "0  4b1816  EDW752X     Switzerland   1.728145e+09    1728145455     8.5634   \n",
      "1  aa8c39  UAL1890   United States   1.728145e+09    1728145455  -111.1215   \n",
      "2  ad4f1c  ERU957    United States   1.728145e+09    1728145455   -81.4529   \n",
      "3  aa56da  UAL1107   United States   1.728145e+09    1728145456  -106.6643   \n",
      "4  a33b55  N307WP    United States   1.728145e+09    1728145455   -96.9043   \n",
      "\n",
      "   latitude  baro_altitude  on_ground  velocity  true_track  vertical_rate  \\\n",
      "0   47.4571         426.72      False     44.54      276.63           0.00   \n",
      "1   37.8265       11277.60      False    266.05       78.62           0.00   \n",
      "2   29.3167         739.14      False     45.28       21.32          -0.33   \n",
      "3   35.4108       11277.60      False    254.26      123.53           0.00   \n",
      "4   34.3252        7307.58      False    128.95      192.21           0.00   \n",
      "\n",
      "  sensors  geo_altitude squawk    spi  position_source  \n",
      "0    None           NaN   1000  False                0  \n",
      "1    None      11871.96   7276  False                0  \n",
      "2    None        769.62   None  False                0  \n",
      "3    None      11902.44   None  False                0  \n",
      "4    None       7711.44   None  False                0  \n"
     ]
    }
   ],
   "source": [
    "print(df.head())"
   ]
  },
  {
   "cell_type": "code",
   "execution_count": 20,
   "metadata": {},
   "outputs": [],
   "source": [
    "df.to_csv('flight_data.csv', index=False)\n"
   ]
  },
  {
   "cell_type": "code",
   "execution_count": 22,
   "metadata": {},
   "outputs": [],
   "source": [
    "columns_to_remove = ['sensors', 'geo_altitude', 'squawk', 'spi', 'position_source']\n",
    "df.drop(columns=columns_to_remove, inplace=True, errors='ignore')  # Use inplace=True to modify the DataFrame directly\n"
   ]
  },
  {
   "cell_type": "code",
   "execution_count": 23,
   "metadata": {},
   "outputs": [
    {
     "name": "stdout",
     "output_type": "stream",
     "text": [
      "   icao24  callsign origin_country  time_position  last_contact  longitude  \\\n",
      "0  4b1816  EDW752X     Switzerland   1.728145e+09    1728145455     8.5634   \n",
      "1  aa8c39  UAL1890   United States   1.728145e+09    1728145455  -111.1215   \n",
      "2  ad4f1c  ERU957    United States   1.728145e+09    1728145455   -81.4529   \n",
      "3  aa56da  UAL1107   United States   1.728145e+09    1728145456  -106.6643   \n",
      "4  a33b55  N307WP    United States   1.728145e+09    1728145455   -96.9043   \n",
      "\n",
      "   latitude  baro_altitude  on_ground  velocity  true_track  vertical_rate  \n",
      "0   47.4571         426.72      False     44.54      276.63           0.00  \n",
      "1   37.8265       11277.60      False    266.05       78.62           0.00  \n",
      "2   29.3167         739.14      False     45.28       21.32          -0.33  \n",
      "3   35.4108       11277.60      False    254.26      123.53           0.00  \n",
      "4   34.3252        7307.58      False    128.95      192.21           0.00  \n"
     ]
    }
   ],
   "source": [
    "print(df.head())"
   ]
  },
  {
   "cell_type": "code",
   "execution_count": 24,
   "metadata": {},
   "outputs": [
    {
     "name": "stdout",
     "output_type": "stream",
     "text": [
      "icao24              0\n",
      "callsign            0\n",
      "origin_country      0\n",
      "time_position      88\n",
      "last_contact        0\n",
      "longitude          88\n",
      "latitude           88\n",
      "baro_altitude     734\n",
      "on_ground           0\n",
      "velocity            2\n",
      "true_track          0\n",
      "vertical_rate     668\n",
      "dtype: int64\n"
     ]
    }
   ],
   "source": [
    "# Check for missing values\n",
    "print(df.isnull().sum())\n",
    "\n"
   ]
  },
  {
   "cell_type": "code",
   "execution_count": 25,
   "metadata": {},
   "outputs": [],
   "source": [
    "# Drop rows where essential data is missing\n",
    "df.dropna(subset=['latitude', 'longitude'], inplace=True)"
   ]
  },
  {
   "cell_type": "code",
   "execution_count": 26,
   "metadata": {},
   "outputs": [
    {
     "name": "stdout",
     "output_type": "stream",
     "text": [
      "icao24              0\n",
      "callsign            0\n",
      "origin_country      0\n",
      "time_position       0\n",
      "last_contact        0\n",
      "longitude           0\n",
      "latitude            0\n",
      "baro_altitude     651\n",
      "on_ground           0\n",
      "velocity            2\n",
      "true_track          0\n",
      "vertical_rate     648\n",
      "dtype: int64\n"
     ]
    }
   ],
   "source": [
    "# Check for missing values\n",
    "print(df.isnull().sum())"
   ]
  },
  {
   "cell_type": "code",
   "execution_count": 31,
   "metadata": {},
   "outputs": [],
   "source": [
    " # Replace missing values in baro_altitude and vertical_rate with 0.0\n",
    "df['baro_altitude'].fillna(value=0.0, inplace=True)\n",
    "df['velocity'].fillna(value=0.0, inplace=True)\n",
    "df['vertical_rate'].fillna(value=0.0, inplace=True)"
   ]
  },
  {
   "cell_type": "code",
   "execution_count": 32,
   "metadata": {},
   "outputs": [
    {
     "name": "stdout",
     "output_type": "stream",
     "text": [
      "icao24            0\n",
      "callsign          0\n",
      "origin_country    0\n",
      "time_position     0\n",
      "last_contact      0\n",
      "longitude         0\n",
      "latitude          0\n",
      "baro_altitude     0\n",
      "on_ground         0\n",
      "velocity          0\n",
      "true_track        0\n",
      "vertical_rate     0\n",
      "dtype: int64\n"
     ]
    }
   ],
   "source": [
    "# Check for missing values\n",
    "print(df.isnull().sum())"
   ]
  },
  {
   "cell_type": "code",
   "execution_count": 45,
   "metadata": {},
   "outputs": [],
   "source": [
    "# Convert time_position and last_contact to datetime\n",
    "df['time_position'] = pd.to_numeric(df['time_position']).astype(pd.Int64Dtype())  \n",
    "df['last_contact'] = pd.to_numeric(df['last_contact']).astype(pd.Int64Dtype()) \n",
    "\n",
    "\n",
    "# Convert numeric columns to float\n",
    "numeric_columns = ['longitude', 'latitude', 'baro_altitude', 'velocity', 'true_track','vertical_rate']\n",
    "df[numeric_columns] = df[numeric_columns].astype(float)\n",
    "\n",
    "\n"
   ]
  },
  {
   "cell_type": "code",
   "execution_count": 46,
   "metadata": {},
   "outputs": [
    {
     "name": "stdout",
     "output_type": "stream",
     "text": [
      "Data types of each column after conversion:\n",
      "icao24             object\n",
      "callsign           object\n",
      "origin_country     object\n",
      "time_position       Int64\n",
      "last_contact        Int64\n",
      "longitude         float64\n",
      "latitude          float64\n",
      "baro_altitude     float64\n",
      "on_ground            bool\n",
      "velocity          float64\n",
      "true_track        float64\n",
      "vertical_rate     float64\n",
      "dtype: object\n"
     ]
    }
   ],
   "source": [
    "print(\"Data types of each column after conversion:\")\n",
    "print(df.dtypes)\n"
   ]
  },
  {
   "cell_type": "code",
   "execution_count": 47,
   "metadata": {},
   "outputs": [
    {
     "name": "stdout",
     "output_type": "stream",
     "text": [
      "There are no duplicate rows in the DataFrame.\n"
     ]
    }
   ],
   "source": [
    "# Check for duplicates in the entire DataFrame\n",
    "has_duplicates = df.duplicated().any()\n",
    "\n",
    "if has_duplicates:\n",
    "    print(\"There are duplicate rows in the DataFrame.\")\n",
    "else:\n",
    "    print(\"There are no duplicate rows in the DataFrame.\")\n"
   ]
  },
  {
   "cell_type": "code",
   "execution_count": 50,
   "metadata": {},
   "outputs": [],
   "source": [
    "df.to_csv('cleaned_flight_data.csv', index=False)"
   ]
  },
  {
   "cell_type": "code",
   "execution_count": 56,
   "metadata": {},
   "outputs": [
    {
     "name": "stdout",
     "output_type": "stream",
     "text": [
      "Converted cleaned_flight_data.csv to cleaned_flight_data.json\n"
     ]
    }
   ],
   "source": [
    "# Specify the path to your cleaned CSV file and desired output JSON file\n",
    "csv_file_path = 'cleaned_flight_data.csv'  # Change to your cleaned CSV file path\n",
    "json_file_path = 'cleaned_flight_data.json'  # Output JSON file path\n",
    "\n",
    "# Read the cleaned CSV file\n",
    "df = pd.read_csv(csv_file_path)\n",
    "\n",
    "# Convert the DataFrame to JSON format with the same structure\n",
    "# Use 'records' orientation to keep the same structure\n",
    "json_data = df.to_json(orient='records', lines=False)\n",
    "\n",
    "# Write the JSON data to a file\n",
    "with open(json_file_path, 'w') as json_file:\n",
    "    json_file.write(json_data)\n",
    "\n",
    "print(f'Converted {csv_file_path} to {json_file_path}')\n"
   ]
  }
 ],
 "metadata": {
  "kernelspec": {
   "display_name": "base",
   "language": "python",
   "name": "python3"
  },
  "language_info": {
   "codemirror_mode": {
    "name": "ipython",
    "version": 3
   },
   "file_extension": ".py",
   "mimetype": "text/x-python",
   "name": "python",
   "nbconvert_exporter": "python",
   "pygments_lexer": "ipython3",
   "version": "3.9.18"
  }
 },
 "nbformat": 4,
 "nbformat_minor": 2
}
