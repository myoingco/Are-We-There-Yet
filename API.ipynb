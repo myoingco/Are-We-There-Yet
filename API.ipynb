{
 "cells": [
  {
   "cell_type": "code",
   "execution_count": 9,
   "metadata": {},
   "outputs": [
    {
     "name": "stdout",
     "output_type": "stream",
     "text": [
      "Number of aircraft in the state vector: 10784\n",
      "Flight data has been written to flight_data.json\n"
     ]
    }
   ],
   "source": [
    "import requests\n",
    "import json\n",
    "\n",
    "# Define your OpenSky Network username and password\n",
    "username = 'myoingco'  \n",
    "password = 'Meichel123' \n",
    "\n",
    "# Set the API endpoint for retrieving state vectors\n",
    "api_endpoint = 'https://opensky-network.org/api/states/all'\n",
    "\n",
    "# Make a request to the OpenSky Network API\n",
    "response = requests.get(api_endpoint, auth=(username, password))\n",
    "\n",
    "# Check if the request was successful\n",
    "if response.status_code == 200:\n",
    "    # Parse the JSON response\n",
    "    flight_data = response.json()\n",
    "    \n",
    "    # Print the number of aircraft currently in the state vector\n",
    "    print(f\"Number of aircraft in the state vector: {len(flight_data['states'])}\")\n",
    "    \n",
    "    # Create a new JSON file and write the data to it\n",
    "    with open('flight_data.json', 'w') as json_file:\n",
    "        json.dump(flight_data, json_file, indent=4)  # Use indent for pretty printing\n",
    "    print(\"Flight data has been written to flight_data.json\")\n",
    "else:\n",
    "    print(f\"Error: {response.status_code}, {response.text}\")\n"
   ]
  }
 ],
 "metadata": {
  "kernelspec": {
   "display_name": "Python 3",
   "language": "python",
   "name": "python3"
  },
  "language_info": {
   "codemirror_mode": {
    "name": "ipython",
    "version": 3
   },
   "file_extension": ".py",
   "mimetype": "text/x-python",
   "name": "python",
   "nbconvert_exporter": "python",
   "pygments_lexer": "ipython3",
   "version": "3.9.18"
  }
 },
 "nbformat": 4,
 "nbformat_minor": 2
}
